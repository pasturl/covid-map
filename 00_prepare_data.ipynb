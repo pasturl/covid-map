{
 "cells": [
  {
   "cell_type": "code",
   "execution_count": 1,
   "metadata": {
    "ExecuteTime": {
     "end_time": "2022-02-04T19:24:09.366033Z",
     "start_time": "2022-02-04T19:24:06.242976Z"
    }
   },
   "outputs": [
    {
     "name": "stdout",
     "output_type": "stream",
     "text": [
      "--2022-02-04 19:24:06--  https://covid.ourworldindata.org/data/owid-covid-data.csv\n",
      "Resolving covid.ourworldindata.org (covid.ourworldindata.org)... 188.114.96.12, 188.114.97.12, 2a06:98c1:3121::c, ...\n",
      "Connecting to covid.ourworldindata.org (covid.ourworldindata.org)|188.114.96.12|:443... connected.\n",
      "HTTP request sent, awaiting response... 200 OK\n",
      "Length: unspecified [text/csv]\n",
      "Saving to: ‘owid-covid-data.csv’\n",
      "\n",
      "owid-covid-data.csv     [              <=>   ]  43.20M  16.2MB/s    in 2.7s    \n",
      "\n",
      "2022-02-04 19:24:09 (16.2 MB/s) - ‘owid-covid-data.csv’ saved [45303410]\n",
      "\n"
     ]
    }
   ],
   "source": [
    "!wget https://covid.ourworldindata.org/data/owid-covid-data.csv"
   ]
  },
  {
   "cell_type": "code",
   "execution_count": 6,
   "metadata": {
    "ExecuteTime": {
     "end_time": "2022-02-05T00:11:53.272692Z",
     "start_time": "2022-02-05T00:11:53.270286Z"
    }
   },
   "outputs": [],
   "source": [
    "import pandas as pd\n",
    "import numpy as np\n",
    "import geopandas as gpd\n",
    "import plotly.express as px\n",
    "import streamlit as st"
   ]
  },
  {
   "cell_type": "code",
   "execution_count": 7,
   "metadata": {
    "ExecuteTime": {
     "end_time": "2022-02-05T00:11:57.055615Z",
     "start_time": "2022-02-05T00:11:57.018459Z"
    }
   },
   "outputs": [
    {
     "data": {
      "text/html": [
       "<div>\n",
       "<style scoped>\n",
       "    .dataframe tbody tr th:only-of-type {\n",
       "        vertical-align: middle;\n",
       "    }\n",
       "\n",
       "    .dataframe tbody tr th {\n",
       "        vertical-align: top;\n",
       "    }\n",
       "\n",
       "    .dataframe thead th {\n",
       "        text-align: right;\n",
       "    }\n",
       "</style>\n",
       "<table border=\"1\" class=\"dataframe\">\n",
       "  <thead>\n",
       "    <tr style=\"text-align: right;\">\n",
       "      <th></th>\n",
       "      <th>pop_est</th>\n",
       "      <th>continent</th>\n",
       "      <th>name</th>\n",
       "      <th>iso_a3</th>\n",
       "      <th>gdp_md_est</th>\n",
       "      <th>geometry</th>\n",
       "    </tr>\n",
       "  </thead>\n",
       "  <tbody>\n",
       "    <tr>\n",
       "      <th>0</th>\n",
       "      <td>920938</td>\n",
       "      <td>Oceania</td>\n",
       "      <td>Fiji</td>\n",
       "      <td>FJI</td>\n",
       "      <td>8374.0</td>\n",
       "      <td>MULTIPOLYGON (((180.00000 -16.06713, 180.00000...</td>\n",
       "    </tr>\n",
       "    <tr>\n",
       "      <th>1</th>\n",
       "      <td>53950935</td>\n",
       "      <td>Africa</td>\n",
       "      <td>Tanzania</td>\n",
       "      <td>TZA</td>\n",
       "      <td>150600.0</td>\n",
       "      <td>POLYGON ((33.90371 -0.95000, 34.07262 -1.05982...</td>\n",
       "    </tr>\n",
       "    <tr>\n",
       "      <th>2</th>\n",
       "      <td>603253</td>\n",
       "      <td>Africa</td>\n",
       "      <td>W. Sahara</td>\n",
       "      <td>ESH</td>\n",
       "      <td>906.5</td>\n",
       "      <td>POLYGON ((-8.66559 27.65643, -8.66512 27.58948...</td>\n",
       "    </tr>\n",
       "    <tr>\n",
       "      <th>3</th>\n",
       "      <td>35623680</td>\n",
       "      <td>North America</td>\n",
       "      <td>Canada</td>\n",
       "      <td>CAN</td>\n",
       "      <td>1674000.0</td>\n",
       "      <td>MULTIPOLYGON (((-122.84000 49.00000, -122.9742...</td>\n",
       "    </tr>\n",
       "    <tr>\n",
       "      <th>4</th>\n",
       "      <td>326625791</td>\n",
       "      <td>North America</td>\n",
       "      <td>United States of America</td>\n",
       "      <td>USA</td>\n",
       "      <td>18560000.0</td>\n",
       "      <td>MULTIPOLYGON (((-122.84000 49.00000, -120.0000...</td>\n",
       "    </tr>\n",
       "    <tr>\n",
       "      <th>...</th>\n",
       "      <td>...</td>\n",
       "      <td>...</td>\n",
       "      <td>...</td>\n",
       "      <td>...</td>\n",
       "      <td>...</td>\n",
       "      <td>...</td>\n",
       "    </tr>\n",
       "    <tr>\n",
       "      <th>172</th>\n",
       "      <td>7111024</td>\n",
       "      <td>Europe</td>\n",
       "      <td>Serbia</td>\n",
       "      <td>SRB</td>\n",
       "      <td>101800.0</td>\n",
       "      <td>POLYGON ((18.82982 45.90887, 18.82984 45.90888...</td>\n",
       "    </tr>\n",
       "    <tr>\n",
       "      <th>173</th>\n",
       "      <td>642550</td>\n",
       "      <td>Europe</td>\n",
       "      <td>Montenegro</td>\n",
       "      <td>MNE</td>\n",
       "      <td>10610.0</td>\n",
       "      <td>POLYGON ((20.07070 42.58863, 19.80161 42.50009...</td>\n",
       "    </tr>\n",
       "    <tr>\n",
       "      <th>174</th>\n",
       "      <td>1895250</td>\n",
       "      <td>Europe</td>\n",
       "      <td>Kosovo</td>\n",
       "      <td>-99</td>\n",
       "      <td>18490.0</td>\n",
       "      <td>POLYGON ((20.59025 41.85541, 20.52295 42.21787...</td>\n",
       "    </tr>\n",
       "    <tr>\n",
       "      <th>175</th>\n",
       "      <td>1218208</td>\n",
       "      <td>North America</td>\n",
       "      <td>Trinidad and Tobago</td>\n",
       "      <td>TTO</td>\n",
       "      <td>43570.0</td>\n",
       "      <td>POLYGON ((-61.68000 10.76000, -61.10500 10.890...</td>\n",
       "    </tr>\n",
       "    <tr>\n",
       "      <th>176</th>\n",
       "      <td>13026129</td>\n",
       "      <td>Africa</td>\n",
       "      <td>S. Sudan</td>\n",
       "      <td>SSD</td>\n",
       "      <td>20880.0</td>\n",
       "      <td>POLYGON ((30.83385 3.50917, 29.95350 4.17370, ...</td>\n",
       "    </tr>\n",
       "  </tbody>\n",
       "</table>\n",
       "<p>177 rows × 6 columns</p>\n",
       "</div>"
      ],
      "text/plain": [
       "       pop_est      continent                      name iso_a3  gdp_md_est  \\\n",
       "0       920938        Oceania                      Fiji    FJI      8374.0   \n",
       "1     53950935         Africa                  Tanzania    TZA    150600.0   \n",
       "2       603253         Africa                 W. Sahara    ESH       906.5   \n",
       "3     35623680  North America                    Canada    CAN   1674000.0   \n",
       "4    326625791  North America  United States of America    USA  18560000.0   \n",
       "..         ...            ...                       ...    ...         ...   \n",
       "172    7111024         Europe                    Serbia    SRB    101800.0   \n",
       "173     642550         Europe                Montenegro    MNE     10610.0   \n",
       "174    1895250         Europe                    Kosovo    -99     18490.0   \n",
       "175    1218208  North America       Trinidad and Tobago    TTO     43570.0   \n",
       "176   13026129         Africa                  S. Sudan    SSD     20880.0   \n",
       "\n",
       "                                              geometry  \n",
       "0    MULTIPOLYGON (((180.00000 -16.06713, 180.00000...  \n",
       "1    POLYGON ((33.90371 -0.95000, 34.07262 -1.05982...  \n",
       "2    POLYGON ((-8.66559 27.65643, -8.66512 27.58948...  \n",
       "3    MULTIPOLYGON (((-122.84000 49.00000, -122.9742...  \n",
       "4    MULTIPOLYGON (((-122.84000 49.00000, -120.0000...  \n",
       "..                                                 ...  \n",
       "172  POLYGON ((18.82982 45.90887, 18.82984 45.90888...  \n",
       "173  POLYGON ((20.07070 42.58863, 19.80161 42.50009...  \n",
       "174  POLYGON ((20.59025 41.85541, 20.52295 42.21787...  \n",
       "175  POLYGON ((-61.68000 10.76000, -61.10500 10.890...  \n",
       "176  POLYGON ((30.83385 3.50917, 29.95350 4.17370, ...  \n",
       "\n",
       "[177 rows x 6 columns]"
      ]
     },
     "execution_count": 7,
     "metadata": {},
     "output_type": "execute_result"
    }
   ],
   "source": [
    "gpd.read_file(gpd.datasets.get_path('naturalearth_lowres'))"
   ]
  },
  {
   "cell_type": "code",
   "execution_count": 30,
   "metadata": {
    "ExecuteTime": {
     "end_time": "2022-02-05T08:23:16.887492Z",
     "start_time": "2022-02-05T08:23:16.881978Z"
    }
   },
   "outputs": [],
   "source": [
    "def read_data():\n",
    "    df = pd.read_csv(\"owid-covid-data.csv\")\n",
    "    # Access built-in Natural Earth data via GeoPandas\n",
    "    world = gpd.read_file(gpd.datasets.get_path('naturalearth_lowres'))\n",
    "\n",
    "    # Get a list (dataframe) of country centroids\n",
    "    centroids = world.centroid\n",
    "    centroid_list = pd.concat([world.name, world.iso_a3, centroids], axis=1)\n",
    "    centroid_list['lon'] = centroid_list[0].apply(lambda point: point.x)\n",
    "    centroid_list['lat'] = centroid_list[0].apply(lambda point: point.y)\n",
    "    centroid_list = centroid_list.rename(columns={\"iso_a3\":\"iso_code\"})\n",
    "    df = pd.merge(df, centroid_list[[\"iso_code\", \"lon\", \"lat\"]], on=\"iso_code\", how=\"inner\")\n",
    "    df = df.fillna(0)\n",
    "    df[\"new_deaths\"] = df[\"new_deaths\"].clip(lower=0)\n",
    "    df = df.sort_values(\"date\")\n",
    "    df['formatted_date'] = pd.to_datetime(df['date'])\n",
    "    df['year'] = df['formatted_date'].dt.isocalendar().year.astype(str)\n",
    "    df['week'] = df['formatted_date'].dt.isocalendar().week.astype(str)\n",
    "    df['week'] = df['week'].apply(lambda x: x.zfill(2))\n",
    "    df[\"yw\"] = df['year'] + df['week']\n",
    "    df.reset_index(inplace=True, drop=True)\n",
    "    return df"
   ]
  },
  {
   "cell_type": "code",
   "execution_count": 61,
   "metadata": {
    "ExecuteTime": {
     "end_time": "2022-02-05T09:15:40.159996Z",
     "start_time": "2022-02-05T09:15:40.156731Z"
    }
   },
   "outputs": [],
   "source": [
    "def transform_data(df, kpis_agg):\n",
    "    df_yw = (df.groupby([\"yw\", \"iso_code\", \"continent\", \"location\", \"lon\", \"lat\"])\n",
    "                       .agg(kpis_agg).reset_index())\n",
    "    df_yw[list(kpis_agg.keys())] = df_yw[list(kpis_agg.keys())].clip(0)\n",
    "    df_yw[list(kpis_agg.keys())] = df_yw[list(kpis_agg.keys())].round(2)\n",
    "    return df_yw"
   ]
  },
  {
   "cell_type": "code",
   "execution_count": 52,
   "metadata": {
    "ExecuteTime": {
     "end_time": "2022-02-05T09:13:53.744987Z",
     "start_time": "2022-02-05T09:13:53.740131Z"
    }
   },
   "outputs": [],
   "source": [
    "kpis_agg = {}\n",
    "kpis_agg[\"total_cases\"] = \"max\"\n",
    "kpis_agg[\"new_cases\"] = \"sum\"\n",
    "kpis_agg[\"new_cases_smoothed\"] = \"sum\"\n",
    "kpis_agg[\"total_deaths\"] = \"max\"\n",
    "kpis_agg[\"new_deaths\"] = \"sum\"\n",
    "kpis_agg[\"new_deaths_smoothed\"] = \"sum\"\n",
    "kpis_agg[\"total_cases_per_million\"] = \"max\"\n",
    "kpis_agg[\"new_cases_per_million\"] = \"max\"\n",
    "kpis_agg[\"new_cases_smoothed_per_million\"] = \"max\"\n",
    "kpis_agg[\"total_deaths_per_million\"] = \"max\"\n",
    "kpis_agg[\"new_deaths_per_million\"] = \"max\"\n",
    "kpis_agg[\"new_deaths_smoothed_per_million\"] = \"max\"\n",
    "kpis_agg[\"hosp_patients\"] = \"sum\"\n",
    "kpis_agg[\"hosp_patients_per_million\"] = \"max\"\n",
    "kpis_agg[\"weekly_icu_admissions\"] = \"max\"\n",
    "kpis_agg[\"weekly_icu_admissions_per_million\"] = \"max\"\n",
    "kpis_agg[\"new_tests\"] = \"sum\"\n",
    "kpis_agg[\"total_tests\"] = \"max\"\n",
    "kpis_agg[\"total_tests_per_thousand\"] = \"max\"\n",
    "kpis_agg[\"new_tests_per_thousand\"] = \"max\"\n",
    "kpis_agg[\"positive_rate\"] = \"max\"\n",
    "kpis_agg[\"total_vaccinations\"] = \"max\"\n",
    "kpis_agg[\"people_vaccinated\"] = \"max\"\n",
    "kpis_agg[\"people_fully_vaccinated\"] = \"max\"\n",
    "kpis_agg[\"new_vaccinations\"] = \"sum\"\n",
    "kpis_agg[\"total_vaccinations_per_hundred\"] = \"max\"\n",
    "kpis_agg[\"people_vaccinated_per_hundred\"] = \"max\"\n",
    "kpis_agg[\"people_fully_vaccinated_per_hundred\"] = \"max\"\n",
    "kpis_agg[\"stringency_index\"] = \"max\"\n",
    "kpis_agg[\"population\"] = \"max\"\n",
    "kpis_agg[\"population_density\"] = \"max\""
   ]
  },
  {
   "cell_type": "code",
   "execution_count": 31,
   "metadata": {
    "ExecuteTime": {
     "end_time": "2022-02-05T08:23:19.681221Z",
     "start_time": "2022-02-05T08:23:18.986699Z"
    }
   },
   "outputs": [
    {
     "name": "stderr",
     "output_type": "stream",
     "text": [
      "/opt/conda/lib/python3.7/site-packages/ipykernel_launcher.py:7: UserWarning:\n",
      "\n",
      "Geometry is in a geographic CRS. Results from 'centroid' are likely incorrect. Use 'GeoSeries.to_crs()' to re-project geometries to a projected CRS before this operation.\n",
      "\n",
      "\n"
     ]
    }
   ],
   "source": [
    "df = read_data()"
   ]
  },
  {
   "cell_type": "code",
   "execution_count": 62,
   "metadata": {
    "ExecuteTime": {
     "end_time": "2022-02-05T09:15:43.202983Z",
     "start_time": "2022-02-05T09:15:43.140480Z"
    }
   },
   "outputs": [],
   "source": [
    "df_yw = transform_data(df, kpis_agg)"
   ]
  },
  {
   "cell_type": "code",
   "execution_count": 63,
   "metadata": {
    "ExecuteTime": {
     "end_time": "2022-02-05T09:15:47.972464Z",
     "start_time": "2022-02-05T09:15:47.956322Z"
    }
   },
   "outputs": [
    {
     "data": {
      "text/html": [
       "<div>\n",
       "<style scoped>\n",
       "    .dataframe tbody tr th:only-of-type {\n",
       "        vertical-align: middle;\n",
       "    }\n",
       "\n",
       "    .dataframe tbody tr th {\n",
       "        vertical-align: top;\n",
       "    }\n",
       "\n",
       "    .dataframe thead th {\n",
       "        text-align: right;\n",
       "    }\n",
       "</style>\n",
       "<table border=\"1\" class=\"dataframe\">\n",
       "  <thead>\n",
       "    <tr style=\"text-align: right;\">\n",
       "      <th></th>\n",
       "      <th>yw</th>\n",
       "      <th>iso_code</th>\n",
       "      <th>continent</th>\n",
       "      <th>location</th>\n",
       "      <th>lon</th>\n",
       "      <th>lat</th>\n",
       "      <th>total_cases</th>\n",
       "      <th>new_cases</th>\n",
       "      <th>new_cases_smoothed</th>\n",
       "      <th>total_deaths</th>\n",
       "      <th>...</th>\n",
       "      <th>total_vaccinations</th>\n",
       "      <th>people_vaccinated</th>\n",
       "      <th>people_fully_vaccinated</th>\n",
       "      <th>new_vaccinations</th>\n",
       "      <th>total_vaccinations_per_hundred</th>\n",
       "      <th>people_vaccinated_per_hundred</th>\n",
       "      <th>people_fully_vaccinated_per_hundred</th>\n",
       "      <th>stringency_index</th>\n",
       "      <th>population</th>\n",
       "      <th>population_density</th>\n",
       "    </tr>\n",
       "  </thead>\n",
       "  <tbody>\n",
       "    <tr>\n",
       "      <th>0</th>\n",
       "      <td>202001</td>\n",
       "      <td>ARG</td>\n",
       "      <td>South America</td>\n",
       "      <td>Argentina</td>\n",
       "      <td>-65.175361</td>\n",
       "      <td>-35.446821</td>\n",
       "      <td>0.0</td>\n",
       "      <td>0.0</td>\n",
       "      <td>0.0</td>\n",
       "      <td>0.0</td>\n",
       "      <td>...</td>\n",
       "      <td>0.0</td>\n",
       "      <td>0.0</td>\n",
       "      <td>0.0</td>\n",
       "      <td>0.0</td>\n",
       "      <td>0.0</td>\n",
       "      <td>0.0</td>\n",
       "      <td>0.0</td>\n",
       "      <td>0.0</td>\n",
       "      <td>45605823.0</td>\n",
       "      <td>16.18</td>\n",
       "    </tr>\n",
       "    <tr>\n",
       "      <th>1</th>\n",
       "      <td>202001</td>\n",
       "      <td>MEX</td>\n",
       "      <td>North America</td>\n",
       "      <td>Mexico</td>\n",
       "      <td>-102.576350</td>\n",
       "      <td>23.935372</td>\n",
       "      <td>0.0</td>\n",
       "      <td>0.0</td>\n",
       "      <td>0.0</td>\n",
       "      <td>0.0</td>\n",
       "      <td>...</td>\n",
       "      <td>0.0</td>\n",
       "      <td>0.0</td>\n",
       "      <td>0.0</td>\n",
       "      <td>0.0</td>\n",
       "      <td>0.0</td>\n",
       "      <td>0.0</td>\n",
       "      <td>0.0</td>\n",
       "      <td>0.0</td>\n",
       "      <td>130262220.0</td>\n",
       "      <td>66.44</td>\n",
       "    </tr>\n",
       "    <tr>\n",
       "      <th>2</th>\n",
       "      <td>202001</td>\n",
       "      <td>PER</td>\n",
       "      <td>South America</td>\n",
       "      <td>Peru</td>\n",
       "      <td>-74.391806</td>\n",
       "      <td>-9.191563</td>\n",
       "      <td>0.0</td>\n",
       "      <td>0.0</td>\n",
       "      <td>0.0</td>\n",
       "      <td>0.0</td>\n",
       "      <td>...</td>\n",
       "      <td>0.0</td>\n",
       "      <td>0.0</td>\n",
       "      <td>0.0</td>\n",
       "      <td>0.0</td>\n",
       "      <td>0.0</td>\n",
       "      <td>0.0</td>\n",
       "      <td>0.0</td>\n",
       "      <td>0.0</td>\n",
       "      <td>33359415.0</td>\n",
       "      <td>25.13</td>\n",
       "    </tr>\n",
       "    <tr>\n",
       "      <th>3</th>\n",
       "      <td>202001</td>\n",
       "      <td>THA</td>\n",
       "      <td>Asia</td>\n",
       "      <td>Thailand</td>\n",
       "      <td>101.006134</td>\n",
       "      <td>15.016975</td>\n",
       "      <td>0.0</td>\n",
       "      <td>0.0</td>\n",
       "      <td>0.0</td>\n",
       "      <td>0.0</td>\n",
       "      <td>...</td>\n",
       "      <td>0.0</td>\n",
       "      <td>0.0</td>\n",
       "      <td>0.0</td>\n",
       "      <td>0.0</td>\n",
       "      <td>0.0</td>\n",
       "      <td>0.0</td>\n",
       "      <td>0.0</td>\n",
       "      <td>0.0</td>\n",
       "      <td>69950844.0</td>\n",
       "      <td>135.13</td>\n",
       "    </tr>\n",
       "    <tr>\n",
       "      <th>4</th>\n",
       "      <td>202002</td>\n",
       "      <td>ARG</td>\n",
       "      <td>South America</td>\n",
       "      <td>Argentina</td>\n",
       "      <td>-65.175361</td>\n",
       "      <td>-35.446821</td>\n",
       "      <td>0.0</td>\n",
       "      <td>0.0</td>\n",
       "      <td>0.0</td>\n",
       "      <td>0.0</td>\n",
       "      <td>...</td>\n",
       "      <td>0.0</td>\n",
       "      <td>0.0</td>\n",
       "      <td>0.0</td>\n",
       "      <td>0.0</td>\n",
       "      <td>0.0</td>\n",
       "      <td>0.0</td>\n",
       "      <td>0.0</td>\n",
       "      <td>0.0</td>\n",
       "      <td>45605823.0</td>\n",
       "      <td>16.18</td>\n",
       "    </tr>\n",
       "  </tbody>\n",
       "</table>\n",
       "<p>5 rows × 37 columns</p>\n",
       "</div>"
      ],
      "text/plain": [
       "       yw iso_code      continent   location         lon        lat  \\\n",
       "0  202001      ARG  South America  Argentina  -65.175361 -35.446821   \n",
       "1  202001      MEX  North America     Mexico -102.576350  23.935372   \n",
       "2  202001      PER  South America       Peru  -74.391806  -9.191563   \n",
       "3  202001      THA           Asia   Thailand  101.006134  15.016975   \n",
       "4  202002      ARG  South America  Argentina  -65.175361 -35.446821   \n",
       "\n",
       "   total_cases  new_cases  new_cases_smoothed  total_deaths  ...  \\\n",
       "0          0.0        0.0                 0.0           0.0  ...   \n",
       "1          0.0        0.0                 0.0           0.0  ...   \n",
       "2          0.0        0.0                 0.0           0.0  ...   \n",
       "3          0.0        0.0                 0.0           0.0  ...   \n",
       "4          0.0        0.0                 0.0           0.0  ...   \n",
       "\n",
       "   total_vaccinations  people_vaccinated  people_fully_vaccinated  \\\n",
       "0                 0.0                0.0                      0.0   \n",
       "1                 0.0                0.0                      0.0   \n",
       "2                 0.0                0.0                      0.0   \n",
       "3                 0.0                0.0                      0.0   \n",
       "4                 0.0                0.0                      0.0   \n",
       "\n",
       "   new_vaccinations  total_vaccinations_per_hundred  \\\n",
       "0               0.0                             0.0   \n",
       "1               0.0                             0.0   \n",
       "2               0.0                             0.0   \n",
       "3               0.0                             0.0   \n",
       "4               0.0                             0.0   \n",
       "\n",
       "   people_vaccinated_per_hundred  people_fully_vaccinated_per_hundred  \\\n",
       "0                            0.0                                  0.0   \n",
       "1                            0.0                                  0.0   \n",
       "2                            0.0                                  0.0   \n",
       "3                            0.0                                  0.0   \n",
       "4                            0.0                                  0.0   \n",
       "\n",
       "   stringency_index   population  population_density  \n",
       "0               0.0   45605823.0               16.18  \n",
       "1               0.0  130262220.0               66.44  \n",
       "2               0.0   33359415.0               25.13  \n",
       "3               0.0   69950844.0              135.13  \n",
       "4               0.0   45605823.0               16.18  \n",
       "\n",
       "[5 rows x 37 columns]"
      ]
     },
     "execution_count": 63,
     "metadata": {},
     "output_type": "execute_result"
    }
   ],
   "source": [
    "df_yw.head()"
   ]
  },
  {
   "cell_type": "code",
   "execution_count": 33,
   "metadata": {
    "ExecuteTime": {
     "end_time": "2022-02-05T08:23:52.085984Z",
     "start_time": "2022-02-05T08:23:47.241890Z"
    }
   },
   "outputs": [],
   "source": [
    "df.to_csv(\"owid-covid-data-gps.csv\", index=False)"
   ]
  },
  {
   "cell_type": "code",
   "execution_count": 64,
   "metadata": {
    "ExecuteTime": {
     "end_time": "2022-02-05T09:16:19.458829Z",
     "start_time": "2022-02-05T09:16:19.124870Z"
    }
   },
   "outputs": [],
   "source": [
    "df_yw.to_csv(\"owid-covid-data-gps-weekly.csv\", index=False)"
   ]
  },
  {
   "cell_type": "code",
   "execution_count": null,
   "metadata": {},
   "outputs": [],
   "source": []
  }
 ],
 "metadata": {
  "kernelspec": {
   "display_name": "Python 3",
   "language": "python",
   "name": "python3"
  },
  "language_info": {
   "codemirror_mode": {
    "name": "ipython",
    "version": 3
   },
   "file_extension": ".py",
   "mimetype": "text/x-python",
   "name": "python",
   "nbconvert_exporter": "python",
   "pygments_lexer": "ipython3",
   "version": "3.7.7"
  },
  "toc": {
   "base_numbering": 1,
   "nav_menu": {},
   "number_sections": false,
   "sideBar": true,
   "skip_h1_title": false,
   "title_cell": "Table of Contents",
   "title_sidebar": "Contents",
   "toc_cell": false,
   "toc_position": {},
   "toc_section_display": true,
   "toc_window_display": false
  }
 },
 "nbformat": 4,
 "nbformat_minor": 4
}
